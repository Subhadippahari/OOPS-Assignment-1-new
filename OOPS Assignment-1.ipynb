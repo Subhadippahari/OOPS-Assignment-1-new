{
 "cells": [
  {
   "cell_type": "markdown",
   "id": "e69da422-3020-4785-891a-05090c7d663c",
   "metadata": {},
   "source": [
    "Q1. Explain Class and Object with respect to Object-Oriented Programming. Give a suitable example."
   ]
  },
  {
   "cell_type": "markdown",
   "id": "1ff86a93-0175-4314-bd49-98cb4df24f31",
   "metadata": {},
   "source": [
    " A Class is like an object constructor, or a \"blueprint\" for creating objects."
   ]
  },
  {
   "cell_type": "code",
   "execution_count": 7,
   "id": "32f340cb-6973-4e5d-a10d-0d1c247794f8",
   "metadata": {},
   "outputs": [],
   "source": [
    "class subha:\n",
    "    def subha():\n",
    "        print(\"This is the object of the class\")"
   ]
  },
  {
   "cell_type": "code",
   "execution_count": 8,
   "id": "07271970-cd52-4882-ba16-4bc200c0cf0b",
   "metadata": {},
   "outputs": [],
   "source": [
    "pw=subha"
   ]
  },
  {
   "cell_type": "markdown",
   "id": "02fb4091-99bf-4fa0-b876-566a6c19c51f",
   "metadata": {},
   "source": [
    "Pw is the object in hear"
   ]
  },
  {
   "cell_type": "code",
   "execution_count": 9,
   "id": "0cea2b42-b265-4ad8-9c11-b9348dfb8515",
   "metadata": {},
   "outputs": [
    {
     "name": "stdout",
     "output_type": "stream",
     "text": [
      "This is the object of the class\n"
     ]
    }
   ],
   "source": [
    "pw.subha()"
   ]
  },
  {
   "cell_type": "markdown",
   "id": "e7e2ee37-ad43-46b2-b83a-18d5c94068bc",
   "metadata": {},
   "source": [
    "Q2. Name the four pillars of OOPs."
   ]
  },
  {
   "cell_type": "markdown",
   "id": "34c9143f-d523-48e5-a6cf-be44b436d7c9",
   "metadata": {},
   "source": [
    "The Four pillars of OOPs, abstraction, encapsulation, inheritance, and polymorphism, are integral to understanding and using OOP"
   ]
  },
  {
   "cell_type": "markdown",
   "id": "f5d41ad4-93a0-48bd-9ef9-a2144f201394",
   "metadata": {},
   "source": [
    "Q3. Explain why the __init__() function is used. Give a suitable example."
   ]
  },
  {
   "cell_type": "markdown",
   "id": "9948e779-74ca-475f-84e1-0b793f2494df",
   "metadata": {},
   "source": [
    " __init__ is a special python method that runs whenever a new object is created"
   ]
  },
  {
   "cell_type": "code",
   "execution_count": 11,
   "id": "dc57e632-2a31-4346-aa77-dba50738833f",
   "metadata": {},
   "outputs": [],
   "source": [
    "class subha1:\n",
    "    def __init__(self,name,email_id,mobile_number):\n",
    "        self.name=name\n",
    "        self.email_id=email_id\n",
    "        self.mobile_number=mobile_number\n",
    "    def return_value(self):\n",
    "        return self.name,self.mobile_number,self.email_id"
   ]
  },
  {
   "cell_type": "code",
   "execution_count": 12,
   "id": "64671f25-df9a-4f1d-98ae-9b77d3b0fb3d",
   "metadata": {},
   "outputs": [],
   "source": [
    "su=subha1(\"subhadip\",\"subha@gmail.com\",223255252)"
   ]
  },
  {
   "cell_type": "code",
   "execution_count": 13,
   "id": "49b123fb-316c-4d39-9418-0b2d47deb43b",
   "metadata": {},
   "outputs": [
    {
     "data": {
      "text/plain": [
       "'subha@gmail.com'"
      ]
     },
     "execution_count": 13,
     "metadata": {},
     "output_type": "execute_result"
    }
   ],
   "source": [
    "su.email_id"
   ]
  },
  {
   "cell_type": "code",
   "execution_count": 15,
   "id": "df3a95f6-9231-4344-bbfc-a9488a0d608f",
   "metadata": {},
   "outputs": [
    {
     "data": {
      "text/plain": [
       "('subhadip', 223255252, 'subha@gmail.com')"
      ]
     },
     "execution_count": 15,
     "metadata": {},
     "output_type": "execute_result"
    }
   ],
   "source": [
    "su.return_value()"
   ]
  },
  {
   "cell_type": "markdown",
   "id": "80ffcbab-a126-42f6-89ff-eb1ec9e26c41",
   "metadata": {},
   "source": [
    "Q4. Why self is used in OOPs?"
   ]
  },
  {
   "cell_type": "markdown",
   "id": "adcb1abb-c2a6-423e-811e-30f7558b641b",
   "metadata": {},
   "source": [
    "self represents the instance of the class. By using the “self” we can access the attributes and methods of the class in python. It binds the attributes with the given arguments. The reason you need to use self. is because Python does not use the @ syntax to refer to instance attributes"
   ]
  },
  {
   "cell_type": "markdown",
   "id": "d7373f7c-6a0d-4b2b-94b0-e102dc4888dc",
   "metadata": {},
   "source": [
    "Q5. What is inheritance? Give an example for each type of inheritance."
   ]
  },
  {
   "cell_type": "markdown",
   "id": "597dd2ee-bad6-4c30-a4e2-703ceb1493ef",
   "metadata": {},
   "source": [
    "The class whose members are inherited is called the base class, and the class that inherits those members is called the derived class. Inheritance implements the IS-A relationship. For example, mammal IS-A animal, dog IS-A mammal; Hence dog IS-A animal as well"
   ]
  },
  {
   "cell_type": "code",
   "execution_count": null,
   "id": "6ace8249-b7f5-471f-b166-204d513017a3",
   "metadata": {},
   "outputs": [],
   "source": []
  }
 ],
 "metadata": {
  "kernelspec": {
   "display_name": "Python 3 (ipykernel)",
   "language": "python",
   "name": "python3"
  },
  "language_info": {
   "codemirror_mode": {
    "name": "ipython",
    "version": 3
   },
   "file_extension": ".py",
   "mimetype": "text/x-python",
   "name": "python",
   "nbconvert_exporter": "python",
   "pygments_lexer": "ipython3",
   "version": "3.10.8"
  }
 },
 "nbformat": 4,
 "nbformat_minor": 5
}
